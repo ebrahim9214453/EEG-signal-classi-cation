{
  "nbformat": 4,
  "nbformat_minor": 0,
  "metadata": {
    "colab": {
      "name": "final_EEG.ipynb",
      "version": "0.3.2",
      "provenance": [],
      "collapsed_sections": []
    },
    "kernelspec": {
      "name": "python3",
      "display_name": "Python 3"
    },
    "accelerator": "GPU"
  },
  "cells": [
    {
      "metadata": {
        "id": "3DLw95cGPSFi",
        "colab_type": "code",
        "outputId": "d752381b-fda2-4ba7-cbf7-d0ab5cabaa46",
        "colab": {
          "base_uri": "https://localhost:8080/",
          "height": 34
        }
      },
      "cell_type": "code",
      "source": [
        "#@title define { form-width: \"30%\", display-mode: \"both\" }\n",
        "#@markdown \n",
        "import numpy\n",
        "import numpy as np\n",
        "import pandas as pd\n",
        "import matplotlib.pyplot as plt\n",
        "from time import sleep\n",
        "import os\n",
        "import seaborn as sns\n",
        "import matplotlib.pyplot as plt\n",
        "\n",
        "def warn(*args, **kwargs): pass\n",
        "import warnings\n",
        "warnings.warn = warn\n",
        "\n",
        "from sklearn.preprocessing import LabelEncoder\n",
        "#from sklearn.cross_validation import StratifiedShuffleSplit\n",
        "#import pyeeg\n",
        "import warnings\n",
        "from sklearn.decomposition import PCA, FastICA\n",
        "from sklearn.discriminant_analysis import LinearDiscriminantAnalysis as LDA\n",
        "from sklearn.preprocessing import MinMaxScaler\n",
        "from sklearn.preprocessing import StandardScaler\n",
        "from sklearn.model_selection import train_test_split\n",
        "\n",
        "import plotly.plotly as py\n",
        "from plotly.graph_objs import *\n",
        "import plotly.tools as tls\n",
        "\n",
        "from sklearn.metrics import accuracy_score, log_loss\n",
        "from sklearn.neighbors import KNeighborsClassifier\n",
        "from sklearn.svm import SVC, LinearSVC, NuSVC\n",
        "from sklearn.tree import DecisionTreeClassifier\n",
        "from sklearn.ensemble import RandomForestClassifier, AdaBoostClassifier, GradientBoostingClassifier\n",
        "from sklearn.naive_bayes import GaussianNB\n",
        "from sklearn.discriminant_analysis import LinearDiscriminantAnalysis\n",
        "from sklearn.discriminant_analysis import QuadraticDiscriminantAnalysis\n",
        "print(__doc__)\n",
        "\n",
        "import plotly.plotly as py\n",
        "import plotly.graph_objs as go\n",
        "from plotly import tools\n",
        "from matplotlib.colors import ListedColormap\n",
        "\n",
        "from sklearn.model_selection import train_test_split\n",
        "from sklearn.preprocessing import StandardScaler\n",
        "from sklearn.datasets import make_moons, make_circles, make_classification\n",
        "from sklearn.neural_network import MLPClassifier\n",
        "from sklearn.svm import SVC\n",
        "from sklearn.gaussian_process import GaussianProcessClassifier\n",
        "from sklearn.gaussian_process.kernels import RBF\n",
        "import numpy as np\n",
        "import matplotlib.pyplot as plt\n",
        "from matplotlib.colors import ListedColormap\n",
        "\n"
      ],
      "execution_count": 1,
      "outputs": [
        {
          "output_type": "stream",
          "text": [
            "Automatically created module for IPython interactive environment\n"
          ],
          "name": "stdout"
        }
      ]
    },
    {
      "metadata": {
        "id": "LMxMRwQ3a_BC",
        "colab_type": "code",
        "outputId": "bd75f26b-edb1-47a9-a661-2e401f595c0e",
        "colab": {
          "base_uri": "https://localhost:8080/",
          "height": 34
        }
      },
      "cell_type": "code",
      "source": [
        "!ls"
      ],
      "execution_count": 0,
      "outputs": [
        {
          "output_type": "stream",
          "text": [
            "sample_data\n"
          ],
          "name": "stdout"
        }
      ]
    },
    {
      "metadata": {
        "id": "_0GQ3SJGPbh5",
        "colab_type": "code",
        "outputId": "2edd36c7-cae2-4ac2-afce-3ac9a10e06f1",
        "colab": {
          "base_uri": "https://localhost:8080/",
          "height": 136
        }
      },
      "cell_type": "code",
      "source": [
        "#@title download dataset { form-width: \"20%\" }\n",
        "!git clone https://github.com/ebrahim9214453/EEG-signal-classi-cation.git"
      ],
      "execution_count": 2,
      "outputs": [
        {
          "output_type": "stream",
          "text": [
            "Cloning into 'EEG-signal-classi-cation'...\n",
            "remote: Enumerating objects: 2, done.\u001b[K\n",
            "remote: Counting objects: 100% (2/2), done.\u001b[K\n",
            "remote: Compressing objects: 100% (2/2), done.\u001b[K\n",
            "remote: Total 528 (delta 0), reused 0 (delta 0), pack-reused 526\u001b[K\n",
            "Receiving objects: 100% (528/528), 2.83 MiB | 11.12 MiB/s, done.\n",
            "Resolving deltas: 100% (5/5), done.\n"
          ],
          "name": "stdout"
        }
      ]
    },
    {
      "metadata": {
        "id": "_IoMql2kPhRp",
        "colab_type": "code",
        "outputId": "bfc68cfe-f792-4e3c-ce81-d55709f73c82",
        "colab": {
          "base_uri": "https://localhost:8080/",
          "height": 34
        }
      },
      "cell_type": "code",
      "source": [
        "%cd/content/EEG-signal-classi-cation"
      ],
      "execution_count": 3,
      "outputs": [
        {
          "output_type": "stream",
          "text": [
            "/content/EEG-signal-classi-cation\n"
          ],
          "name": "stdout"
        }
      ]
    },
    {
      "metadata": {
        "id": "PISLFBtCPh-Y",
        "colab_type": "code",
        "outputId": "9e69b495-275f-4b75-a3da-ca8682ed340c",
        "colab": {
          "base_uri": "https://localhost:8080/",
          "height": 34
        }
      },
      "cell_type": "code",
      "source": [
        "!ls"
      ],
      "execution_count": 4,
      "outputs": [
        {
          "output_type": "stream",
          "text": [
            "dataset  F  N  O  README.md  S\tZ\n"
          ],
          "name": "stdout"
        }
      ]
    },
    {
      "metadata": {
        "id": "y4UUUMnUPpSG",
        "colab_type": "code",
        "colab": {}
      },
      "cell_type": "code",
      "source": [
        "#@title import each and every file { form-width: \"30%\" }\n",
        "\n",
        "\n",
        "dirF=\"./F/\"\n",
        "tempF = []\n",
        "for file in os.listdir(dirF):\n",
        "    fl = dirF + file\n",
        "    tempF.append(fl)\n",
        "tempF = sorted(tempF)   \n",
        "\n",
        "dirN=\"./N/\"\n",
        "tempN = []\n",
        "for file in os.listdir(dirN):\n",
        "    fl = dirN + file\n",
        "    tempN.append(fl)\n",
        "tempN = sorted(tempN)   \n",
        "    \n",
        "dirO=\"./O/\"\n",
        "tempO = []\n",
        "for file in os.listdir(dirO):\n",
        "    fl = dirO + file\n",
        "    tempO.append(fl)\n",
        "tempO = sorted(tempO)   \n",
        "\n",
        "dirS=\"./S/\"\n",
        "tempS = []\n",
        "for file in os.listdir(dirS):\n",
        "    fl = dirS + file\n",
        "    tempS.append(fl)\n",
        "tempS = sorted(tempS) \n",
        "\n",
        "dirZ=\"./Z/\"\n",
        "tempZ = []\n",
        "for file in os.listdir(dirZ):\n",
        "    fl = dirZ + file\n",
        "    tempZ.append(fl)\n",
        "tempZ = sorted(tempZ)"
      ],
      "execution_count": 0,
      "outputs": []
    },
    {
      "metadata": {
        "id": "0P_6F5aEPp7p",
        "colab_type": "code",
        "colab": {}
      },
      "cell_type": "code",
      "source": [
        "#@title create small tables { form-width: \"30%\" }\n",
        "\n",
        "\n",
        "tf=[]\n",
        "st = 'A'\n",
        "for i in range(len(tempF)):\n",
        "    x = pd.read_table(tempF[i],header=None)\n",
        "    x.columns=[st+str(i)]\n",
        "    tf.append(x)\n",
        "    \n",
        "tn=[]\n",
        "st = 'A'\n",
        "for i in range(len(tempN)):\n",
        "    x = pd.read_table(tempN[i],header=None)\n",
        "    x.columns=[st+str(i)]\n",
        "    tn.append(x)\n",
        "    \n",
        "to=[]\n",
        "st = 'A'\n",
        "for i in range(len(tempO)):\n",
        "    x = pd.read_table(tempO[i],header=None)\n",
        "    x.columns=[st+str(i)]\n",
        "    to.append(x)\n",
        "\n",
        "        \n",
        "ts=[]\n",
        "st = 'A'\n",
        "for i in range(len(tempS)):\n",
        "    x = pd.read_table(tempS[i],header=None)\n",
        "    x.columns=[st+str(i)]\n",
        "    ts.append(x)\n",
        "    \n",
        "tz=[]\n",
        "st = 'A'\n",
        "for i in range(len(tempZ)):\n",
        "    x = pd.read_table(tempZ[i],header=None)\n",
        "    x.columns=[st+str(i)]\n",
        "    tz.append(x)"
      ],
      "execution_count": 0,
      "outputs": []
    },
    {
      "metadata": {
        "id": "37NUiicoPwrA",
        "colab_type": "code",
        "colab": {}
      },
      "cell_type": "code",
      "source": [
        "#@title create big table { form-width: \"30%\" }\n",
        "\n",
        "def table(table):\n",
        "    big_table = None\n",
        "    for ta in table:\n",
        "        big_table = pd.concat([big_table, ta],axis=1)\n",
        "    return big_table\n"
      ],
      "execution_count": 0,
      "outputs": []
    },
    {
      "metadata": {
        "id": "lywyop3MP0-9",
        "colab_type": "code",
        "outputId": "c0b69838-c4f8-49bd-effc-782339cc9394",
        "colab": {
          "base_uri": "https://localhost:8080/",
          "height": 233
        }
      },
      "cell_type": "code",
      "source": [
        "bigF = table(tf)\n",
        "bigN = table(tn)\n",
        "bigO = table(to)\n",
        "bigS = table(ts)\n",
        "bigZ = table(tz)\n",
        "head = list(bigF.columns.values)\n",
        "len(bigF.columns)\n",
        "bigZ.head(5)"
      ],
      "execution_count": 8,
      "outputs": [
        {
          "output_type": "execute_result",
          "data": {
            "text/html": [
              "<div>\n",
              "<style scoped>\n",
              "    .dataframe tbody tr th:only-of-type {\n",
              "        vertical-align: middle;\n",
              "    }\n",
              "\n",
              "    .dataframe tbody tr th {\n",
              "        vertical-align: top;\n",
              "    }\n",
              "\n",
              "    .dataframe thead th {\n",
              "        text-align: right;\n",
              "    }\n",
              "</style>\n",
              "<table border=\"1\" class=\"dataframe\">\n",
              "  <thead>\n",
              "    <tr style=\"text-align: right;\">\n",
              "      <th></th>\n",
              "      <th>A0</th>\n",
              "      <th>A1</th>\n",
              "      <th>A2</th>\n",
              "      <th>A3</th>\n",
              "      <th>A4</th>\n",
              "      <th>A5</th>\n",
              "      <th>A6</th>\n",
              "      <th>A7</th>\n",
              "      <th>A8</th>\n",
              "      <th>A9</th>\n",
              "      <th>...</th>\n",
              "      <th>A90</th>\n",
              "      <th>A91</th>\n",
              "      <th>A92</th>\n",
              "      <th>A93</th>\n",
              "      <th>A94</th>\n",
              "      <th>A95</th>\n",
              "      <th>A96</th>\n",
              "      <th>A97</th>\n",
              "      <th>A98</th>\n",
              "      <th>A99</th>\n",
              "    </tr>\n",
              "  </thead>\n",
              "  <tbody>\n",
              "    <tr>\n",
              "      <th>0</th>\n",
              "      <td>12</td>\n",
              "      <td>-56</td>\n",
              "      <td>-37</td>\n",
              "      <td>-31</td>\n",
              "      <td>14</td>\n",
              "      <td>-87</td>\n",
              "      <td>-2</td>\n",
              "      <td>-31</td>\n",
              "      <td>8</td>\n",
              "      <td>-41</td>\n",
              "      <td>...</td>\n",
              "      <td>13</td>\n",
              "      <td>40</td>\n",
              "      <td>-19</td>\n",
              "      <td>-45</td>\n",
              "      <td>6</td>\n",
              "      <td>-133</td>\n",
              "      <td>-3</td>\n",
              "      <td>-51</td>\n",
              "      <td>56</td>\n",
              "      <td>-36</td>\n",
              "    </tr>\n",
              "    <tr>\n",
              "      <th>1</th>\n",
              "      <td>22</td>\n",
              "      <td>-50</td>\n",
              "      <td>-22</td>\n",
              "      <td>-43</td>\n",
              "      <td>26</td>\n",
              "      <td>-89</td>\n",
              "      <td>20</td>\n",
              "      <td>-16</td>\n",
              "      <td>17</td>\n",
              "      <td>-38</td>\n",
              "      <td>...</td>\n",
              "      <td>30</td>\n",
              "      <td>48</td>\n",
              "      <td>-1</td>\n",
              "      <td>-62</td>\n",
              "      <td>-6</td>\n",
              "      <td>-144</td>\n",
              "      <td>-3</td>\n",
              "      <td>-42</td>\n",
              "      <td>55</td>\n",
              "      <td>-71</td>\n",
              "    </tr>\n",
              "    <tr>\n",
              "      <th>2</th>\n",
              "      <td>35</td>\n",
              "      <td>-64</td>\n",
              "      <td>-17</td>\n",
              "      <td>-39</td>\n",
              "      <td>32</td>\n",
              "      <td>-73</td>\n",
              "      <td>42</td>\n",
              "      <td>10</td>\n",
              "      <td>29</td>\n",
              "      <td>-31</td>\n",
              "      <td>...</td>\n",
              "      <td>42</td>\n",
              "      <td>35</td>\n",
              "      <td>33</td>\n",
              "      <td>-76</td>\n",
              "      <td>-8</td>\n",
              "      <td>-113</td>\n",
              "      <td>-12</td>\n",
              "      <td>-39</td>\n",
              "      <td>38</td>\n",
              "      <td>-120</td>\n",
              "    </tr>\n",
              "    <tr>\n",
              "      <th>3</th>\n",
              "      <td>45</td>\n",
              "      <td>-91</td>\n",
              "      <td>-24</td>\n",
              "      <td>-39</td>\n",
              "      <td>25</td>\n",
              "      <td>-69</td>\n",
              "      <td>48</td>\n",
              "      <td>28</td>\n",
              "      <td>46</td>\n",
              "      <td>-25</td>\n",
              "      <td>...</td>\n",
              "      <td>56</td>\n",
              "      <td>5</td>\n",
              "      <td>51</td>\n",
              "      <td>-98</td>\n",
              "      <td>-6</td>\n",
              "      <td>-74</td>\n",
              "      <td>-24</td>\n",
              "      <td>-47</td>\n",
              "      <td>-5</td>\n",
              "      <td>-150</td>\n",
              "    </tr>\n",
              "    <tr>\n",
              "      <th>4</th>\n",
              "      <td>69</td>\n",
              "      <td>-135</td>\n",
              "      <td>-31</td>\n",
              "      <td>-9</td>\n",
              "      <td>16</td>\n",
              "      <td>-51</td>\n",
              "      <td>27</td>\n",
              "      <td>31</td>\n",
              "      <td>50</td>\n",
              "      <td>-32</td>\n",
              "      <td>...</td>\n",
              "      <td>56</td>\n",
              "      <td>-40</td>\n",
              "      <td>49</td>\n",
              "      <td>-108</td>\n",
              "      <td>15</td>\n",
              "      <td>-41</td>\n",
              "      <td>-34</td>\n",
              "      <td>-51</td>\n",
              "      <td>-47</td>\n",
              "      <td>-160</td>\n",
              "    </tr>\n",
              "  </tbody>\n",
              "</table>\n",
              "<p>5 rows × 100 columns</p>\n",
              "</div>"
            ],
            "text/plain": [
              "   A0   A1  A2  A3  A4  A5  A6  A7  A8  A9 ...   A90  A91  A92  A93  A94  A95  \\\n",
              "0  12  -56 -37 -31  14 -87  -2 -31   8 -41 ...    13   40  -19  -45    6 -133   \n",
              "1  22  -50 -22 -43  26 -89  20 -16  17 -38 ...    30   48   -1  -62   -6 -144   \n",
              "2  35  -64 -17 -39  32 -73  42  10  29 -31 ...    42   35   33  -76   -8 -113   \n",
              "3  45  -91 -24 -39  25 -69  48  28  46 -25 ...    56    5   51  -98   -6  -74   \n",
              "4  69 -135 -31  -9  16 -51  27  31  50 -32 ...    56  -40   49 -108   15  -41   \n",
              "\n",
              "   A96  A97  A98  A99  \n",
              "0   -3  -51   56  -36  \n",
              "1   -3  -42   55  -71  \n",
              "2  -12  -39   38 -120  \n",
              "3  -24  -47   -5 -150  \n",
              "4  -34  -51  -47 -160  \n",
              "\n",
              "[5 rows x 100 columns]"
            ]
          },
          "metadata": {
            "tags": []
          },
          "execution_count": 8
        }
      ]
    },
    {
      "metadata": {
        "id": "OkGKJqf8P9i1",
        "colab_type": "code",
        "colab": {}
      },
      "cell_type": "code",
      "source": [
        "#@title #creat sub matrix for each # creat a matrix { form-width: \"30%\" }\n",
        "\n",
        "def creat_mat(mat):\n",
        "    matx = np.zeros((len(mat),(len(head))))\n",
        "    for i in range(len(head)):\n",
        "        matx[:,i] = mat[head[i]]\n",
        "        sleep(0.01)\n",
        "    return matx\n",
        "# every mat contain probs mat[:,i] total 28 start form mat1"
      ],
      "execution_count": 0,
      "outputs": []
    },
    {
      "metadata": {
        "id": "a29n3ixcQC5S",
        "colab_type": "code",
        "colab": {}
      },
      "cell_type": "code",
      "source": [
        "matF = creat_mat(bigF) \n",
        "matN = creat_mat(bigN) \n",
        "matO = creat_mat(bigO) \n",
        "matS = creat_mat(bigS) \n",
        "matZ = creat_mat(bigZ)\n",
        "\n",
        "\n",
        "matF = np.nan_to_num(matF) \n",
        "matN = np.nan_to_num(matN)\n",
        "matO = np.nan_to_num(matO)\n",
        "matS = np.nan_to_num(matS)\n",
        "matZ = np.nan_to_num(matZ)"
      ],
      "execution_count": 0,
      "outputs": []
    },
    {
      "metadata": {
        "id": "Huy74gw3QGaI",
        "colab_type": "code",
        "outputId": "a5e4093d-6ae2-40e3-ef9f-e0e438c68a62",
        "colab": {
          "base_uri": "https://localhost:8080/",
          "height": 347
        }
      },
      "cell_type": "code",
      "source": [
        "#@title #Visualize the Datapoints { form-width: \"30%\" }\n",
        "\n",
        "FF,      = plt.plot(matF[0],label='F-data')\n",
        "NN,   = plt.plot(matN[0],label='N-data')\n",
        "OO, = plt.plot(matO[0],label='O-data')\n",
        "SS,   = plt.plot(matS[0],label='S-data')\n",
        "ZZ, = plt.plot(matZ[0],label='Z-data')\n",
        "\n",
        "plt.legend(handles=[FF,NN,OO,SS,ZZ])\n",
        "plt.savefig(\"fig1.png\")"
      ],
      "execution_count": 11,
      "outputs": [
        {
          "output_type": "display_data",
          "data": {
            "image/png": "[encoded data removed]",
            "text/plain": [
              "<Figure size 576x396 with 1 Axes>"
            ]
          },
          "metadata": {
            "tags": []
          }
        }
      ]
    },
    {
      "metadata": {
        "id": "y5c7pg6zQJvl",
        "colab_type": "code",
        "colab": {}
      },
      "cell_type": "code",
      "source": [
        "#@title DWT function { form-width: \"30%\" }\n",
        "import pywt\n",
        "\n",
        "def wtdata(mat):\n",
        "    xcA5 = np.zeros((134,(len(head))))\n",
        "    xcD5 = np.zeros((134,(len(head))))\n",
        "    xcD4 = np.zeros((262,(len(head))))\n",
        "    xcD3 = np.zeros((518,(len(head))))\n",
        "    xcD2 = np.zeros((1029,(len(head))))\n",
        "    xcD1 = np.zeros((2052,(len(head))))\n",
        "    \n",
        "    for i in range(len(head)):\n",
        "        sleep(0.01)\n",
        "        cA5, cD5,cD4, cD3, cD2, cD1= pywt.wavedec(mat[:,i], 'db4', level=5)\n",
        "        xcA5[:,i]=cA5\n",
        "        xcD5[:,i]=cD5\n",
        "        xcD4[:,i]=cD4\n",
        "        xcD3[:,i]=cD3\n",
        "        xcD2[:,i]=cD2\n",
        "        xcD1[:,i]=cD1\n",
        "\n",
        "    return (xcA5, xcD5, xcD4, xcD3, xcD2, xcD1)"
      ],
      "execution_count": 0,
      "outputs": []
    },
    {
      "metadata": {
        "id": "Ii-fAmJHQOR0",
        "colab_type": "code",
        "cellView": "both",
        "colab": {}
      },
      "cell_type": "code",
      "source": [
        "#@title #create features of class S & Z { form-width: \"30%\" }\n",
        "\n",
        "f1_S    = np.zeros((100,4))\n",
        "f2_S    = np.zeros((100,4))\n",
        "f3_S    = np.zeros((100,4))\n",
        "f4_S    = np.zeros((100,4))\n",
        "cl_S    = np.ones((100,1)) \n",
        "# create features of class Z\n",
        "f1_Z    = np.zeros((100,4))\n",
        "f2_Z    = np.zeros((100,4))\n",
        "f3_Z    = np.zeros((100,4))\n",
        "f4_Z    = np.zeros((100,4))\n",
        "cl_Z    = np.zeros((100,1)) \n",
        "\n",
        "\n",
        "  "
      ],
      "execution_count": 0,
      "outputs": []
    },
    {
      "metadata": {
        "id": "40HicJ1bQgGt",
        "colab_type": "code",
        "colab": {}
      },
      "cell_type": "code",
      "source": [
        "#@title Feature extraction S { form-width: \"30%\" }\n",
        "power=0\n",
        "div=0\n",
        "rat=0\n",
        "xcA5, xcD5, xcD4, xcD3, xcD2, xcD1=wtdata(matS)\n",
        "for i in range(len(head)):\n",
        "      f1_S[i,0]=numpy.mean(abs(xcA5[:,i]))\n",
        "      for j in range(len(head)):\n",
        "        power=power+xcA5[j,i]**2\n",
        "      f2_S[i,0]=power\n",
        "      power=0\n",
        "      for k in range(len(head)):\n",
        "        div=div+(xcA5[k,i]-numpy.mean(xcA5[:,i]))**2\n",
        "        f3_S[i,0]=div\n",
        "        div=0\n",
        "      f1_S[i,1]=numpy.mean(abs(xcD5[:,i]))\n",
        "      for j in range(len(head)):\n",
        "        power=power+xcD5[j,i]**2\n",
        "      f2_S[i,1]=power\n",
        "      power=0\n",
        "      for k in range(len(head)):\n",
        "        div=div+(xcD5[k,i]-numpy.mean(xcD5[:,i]))**2\n",
        "        f3_S[i,1]=div\n",
        "        div=0\n",
        "      f1_S[i,2]=numpy.mean(abs(xcD4[:,i]))\n",
        "      for j in range(len(head)):\n",
        "        power=power+xcD4[j,i]**2\n",
        "      f2_S[i,2]=power\n",
        "      power=0\n",
        "      for k in range(len(head)):\n",
        "        div=div+(xcD4[k,i]-numpy.mean(xcD4[:,i]))**2\n",
        "        f3_S[i,2]=div\n",
        "        div=0\n",
        "      f1_S[i,3]=numpy.mean(abs(xcD3[:,i]))\n",
        "      for j in range(len(head)):\n",
        "        power=power+xcD3[j,i]**2\n",
        "      f2_S[i,3]=power\n",
        "      power=0\n",
        "      for k in range(len(head)):\n",
        "        div=div+(xcD3[k,i]-numpy.mean(xcD3[:,i]))**2\n",
        "        f3_S[i,3]=div\n",
        "        div=0\n",
        "              \n",
        "          \n",
        "for i in range(len(head)-1):\n",
        "        f4_S[i,0]=(f1_S[i,0])/(f1_S[i+1,0])\n",
        "        f4_S[i,1]=(f1_S[i,1])/(f1_S[i+1,1])\n",
        "        f4_S[i,2]=(f1_S[i,2])/(f1_S[i+1,2])\n",
        "        f4_S[i,3]=(f1_S[i,3])/(f1_S[i+1,3])\n",
        "        \n",
        "      \n",
        "f4_S[len(head)-1,0]=numpy.mean(f4_S[:,0])\n",
        "f4_S[len(head)-1,1]=numpy.mean(f4_S[:,0])\n",
        "f4_S[len(head)-1,2]=numpy.mean(f4_S[:,0])\n",
        "f4_S[len(head)-1,3]=numpy.mean(f4_S[:,0])  "
      ],
      "execution_count": 0,
      "outputs": []
    },
    {
      "metadata": {
        "id": "QXeDoh9CQp_t",
        "colab_type": "code",
        "cellView": "both",
        "colab": {}
      },
      "cell_type": "code",
      "source": [
        "#@title Feature extraction Z { form-width: \"30%\" }\n",
        "\n",
        "xcA5, xcD5, xcD4, xcD3, xcD2, xcD1=wtdata(matZ)\n",
        "for i in range(len(head)):\n",
        "      f1_Z[i,0]=numpy.mean(abs(xcA5[:,i]))\n",
        "      for j in range(len(head)):\n",
        "        power=power+xcA5[j,i]**2\n",
        "      f2_Z[i,0]=power\n",
        "      power=0\n",
        "      for k in range(len(head)):\n",
        "        div=div+(xcA5[k,i]-numpy.mean(xcA5[:,i]))**2\n",
        "        f3_Z[i,0]=div\n",
        "        div=0\n",
        "      f1_Z[i,1]=numpy.mean(abs(xcD5[:,i]))\n",
        "      for j in range(len(head)):\n",
        "        power=power+xcD5[j,i]**2\n",
        "      f2_Z[i,1]=power\n",
        "      power=0\n",
        "      for k in range(len(head)):\n",
        "        div=div+(xcD5[k,i]-numpy.mean(xcD5[:,i]))**2\n",
        "        f3_Z[i,1]=div\n",
        "        div=0\n",
        "      f1_Z[i,2]=numpy.mean(abs(xcD4[:,i]))\n",
        "      for j in range(len(head)):\n",
        "        power=power+xcD4[j,i]**2\n",
        "      f2_Z[i,2]=power\n",
        "      power=0\n",
        "      for k in range(len(head)):\n",
        "        div=div+(xcD4[k,i]-numpy.mean(xcD4[:,i]))**2\n",
        "        f3_Z[i,2]=div\n",
        "        div=0\n",
        "      f1_Z[i,3]=numpy.mean(abs(xcD3[:,i]))\n",
        "      for j in range(len(head)):\n",
        "        power=power+xcD3[j,i]**2\n",
        "      f2_Z[i,3]=power\n",
        "      power=0\n",
        "      for k in range(len(head)):\n",
        "        div=div+(xcD3[k,i]-numpy.mean(xcD3[:,i]))**2\n",
        "        f3_Z[i,3]=div\n",
        "        div=0\n",
        "     # f1_Z[i,4]=numpy.mean(abs(xcD2[:,i]))\n",
        "     # for j in range(len(head)):\n",
        "      #  power=power+xcD2[j,i]**2\n",
        "      #f2_Z[i,4]=power\n",
        "      #power=0\n",
        "      #for k in range(len(head)):\n",
        "       # div=div+(xcD2[k,i]-f1_Z[i,4])**2\n",
        "        #f3_Z[i,4]=div\n",
        "        #div=0\n",
        "      #f1_Z[i,5]=numpy.mean(abs(xcD1[:,i]))\n",
        "    #  for j in range(len(head)):\n",
        "     #   power=power+xcD1[j,i]**2\n",
        "      #f2_Z[i,5]=power\n",
        "      #power=0\n",
        "    #  for k in range(len(head)):\n",
        "     #   div=div+(xcD1[k,i]-f1_Z[i,5])**2\n",
        "      #  f3_Z[i,5]=div\n",
        "       # div=0\n",
        "for i in range(len(head)-1):\n",
        "        f4_Z[i,0]=(f1_Z[i,0])/(f1_Z[i+1,0])\n",
        "        f4_Z[i,1]=(f1_Z[i,1])/(f1_Z[i+1,1])\n",
        "        f4_Z[i,2]=(f1_Z[i,2])/(f1_Z[i+1,2])\n",
        "        f4_Z[i,3]=(f1_Z[i,3])/(f1_Z[i+1,3])\n",
        "        \n",
        "f4_Z[len(head)-1,0]=numpy.mean(f4_Z[:,0])\n",
        "f4_Z[len(head)-1,1]=numpy.mean(f4_Z[:,0])\n",
        "f4_Z[len(head)-1,2]=numpy.mean(f4_Z[:,0])\n",
        "f4_Z[len(head)-1,3]=numpy.mean(f4_Z[:,0])      "
      ],
      "execution_count": 0,
      "outputs": []
    },
    {
      "metadata": {
        "id": "qdJxwjm5RNGp",
        "colab_type": "code",
        "colab": {}
      },
      "cell_type": "code",
      "source": [
        "#@title StandardScaler { form-width: \"30%\" }\n",
        "M_S_E = np.concatenate([f1_S,f2_S,f3_S,f4_S],axis=1)\n",
        "M_Z_A = np.concatenate([f1_Z,f2_Z,f3_Z,f4_Z],axis=1)\n",
        "\n",
        "\n",
        "from sklearn.preprocessing import StandardScaler\n",
        "M_S_E = StandardScaler().fit_transform(M_S_E)\n",
        "M_Z_A = StandardScaler().fit_transform(M_Z_A)\n",
        "\n",
        "\n",
        "\n"
      ],
      "execution_count": 0,
      "outputs": []
    },
    {
      "metadata": {
        "id": "oA0y1cE1I5fx",
        "colab_type": "code",
        "outputId": "a4cfd40a-ec63-4a55-dce0-18b505da42c8",
        "colab": {
          "base_uri": "https://localhost:8080/",
          "height": 170
        }
      },
      "cell_type": "code",
      "source": [
        "#@title calcluated n_component { form-width: \"30%\" }\n",
        "k=0\n",
        "cov_mat = np.cov(M_S_E.T)\n",
        "eig_vals, eig_vecs = np.linalg.eig(cov_mat)\n",
        "#print('Eigenvectors \\n%s' %eig_vecs)\n",
        "eig_vals=eig_vals*100/16\n",
        "for i in range(len(eig_vals)):\n",
        "  k=k+eig_vals[i]\n",
        "  if 95<=k:\n",
        "    print(\"%s=n component is best\"%(i+1))\n",
        "    \n",
        "\n"
      ],
      "execution_count": 91,
      "outputs": [
        {
          "output_type": "stream",
          "text": [
            "8=n component is best\n",
            "9=n component is best\n",
            "10=n component is best\n",
            "11=n component is best\n",
            "12=n component is best\n",
            "13=n component is best\n",
            "14=n component is best\n",
            "15=n component is best\n",
            "16=n component is best\n"
          ],
          "name": "stdout"
        }
      ]
    },
    {
      "metadata": {
        "id": "jb0ALX0Zz6Xt",
        "colab_type": "code",
        "outputId": "e74fdbbf-bd8a-448c-e022-9dcba23e7490",
        "colab": {
          "base_uri": "https://localhost:8080/",
          "height": 369
        }
      },
      "cell_type": "code",
      "source": [
        "\n",
        "with plt.style.context('ggplot'):\n",
        "    \n",
        "    \n",
        "    fig = plt.figure(figsize=(6,5))\n",
        "    \n",
        "    objects = ('n=1', 'n=2', 'n=3', 'n=4', 'n=5', 'n=6','n=7', 'n=8', 'n=9', 'n=10', 'n=11', 'n=12','n=13', 'n=14', 'n=15', 'n=16')\n",
        "    y_pos = np.arange(len(objects))\n",
        "    plt.bar( y_pos,eig_vals , alpha=0.5, align= 'edge',label='individual explained variance',edgecolor='k',facecolor='b')\n",
        "    plt.xticks(y_pos, objects)\n",
        "    plt.ylabel('Explained variance ratio')\n",
        "    \n",
        "    plt.legend(loc='best')\n",
        "    plt.tight_layout()"
      ],
      "execution_count": 93,
      "outputs": [
        {
          "output_type": "display_data",
          "data": {
            "image/png": "[encoded data removed]",
            "text/plain": [
              "<Figure size 432x360 with 1 Axes>"
            ]
          },
          "metadata": {
            "tags": []
          }
        }
      ]
    },
    {
      "metadata": {
        "id": "_ItPZRhJRQN2",
        "colab_type": "code",
        "colab": {}
      },
      "cell_type": "code",
      "source": [
        "#@title PCA & ICA matrix { form-width: \"30%\" }\n",
        "pca = PCA(n_components=8)\n",
        "pca.fit( M_S_E)\n",
        "M_S_E_pca=pca.transform(M_S_E)\n",
        "pca.fit( M_Z_A)\n",
        "M_Z_A_pca=pca.transform(M_Z_A)\n",
        "\n",
        "ica = FastICA(n_components=8)\n",
        "ica.fit( M_S_E)\n",
        "M_S_E_ica=ica.transform(M_S_E)\n",
        "ica.fit( M_Z_A)\n",
        "M_Z_A_ica=pca.transform(M_Z_A)\n",
        "\n",
        "\n"
      ],
      "execution_count": 0,
      "outputs": []
    },
    {
      "metadata": {
        "id": "diQSRiT4aEry",
        "colab_type": "code",
        "outputId": "a1950e13-cd4b-4261-b21c-a0a1b5830f9c",
        "colab": {
          "base_uri": "https://localhost:8080/",
          "height": 34
        }
      },
      "cell_type": "code",
      "source": [
        "M_Z_A_ica.shape"
      ],
      "execution_count": 43,
      "outputs": [
        {
          "output_type": "execute_result",
          "data": {
            "text/plain": [
              "(100, 8)"
            ]
          },
          "metadata": {
            "tags": []
          },
          "execution_count": 43
        }
      ]
    },
    {
      "metadata": {
        "id": "fpScabU2Lf2S",
        "colab_type": "code",
        "outputId": "e7f1bf9f-d2f5-454a-a228-5620056d25c5",
        "colab": {
          "base_uri": "https://localhost:8080/",
          "height": 204
        }
      },
      "cell_type": "code",
      "source": [
        "#@title label of feature { form-width: \"30%\" }\n",
        "MftS_E_pca = np.concatenate([M_S_E_pca,cl_S],axis=1)\n",
        "MftZ_A_pca = np.concatenate([M_Z_A_pca,cl_Z],axis=1)\n",
        "\n",
        "FCM_A_pca = pd.DataFrame(MftZ_A_pca,columns=['f1','f2','f3','f4','f5','f6','f7','f8','class'])\n",
        "FCM_E_pca = pd.DataFrame(MftS_E_pca,columns=['f1','f2','f3','f4','f5','f6','f7','f8','class'])\n",
        "\n",
        "MftS_E_ica = np.concatenate([M_S_E_ica,cl_S],axis=1)\n",
        "MftZ_A_ica = np.concatenate([M_Z_A_ica,cl_Z],axis=1)\n",
        "\n",
        "FCM_A_ica = pd.DataFrame(MftZ_A_ica,columns=['f1','f2','f3','f4','f5','f6','f7','f8','class'])\n",
        "FCM_E_ica = pd.DataFrame(MftS_E_ica,columns=['f1','f2','f3','f4','f5','f6','f7','f8','class'])\n",
        "\n",
        "MftS_E_lda = np.concatenate([M_S_E,cl_S],axis=1)\n",
        "\n",
        "MftZ_A_lda = np.concatenate([M_Z_A,cl_Z],axis=1)\n",
        "\n",
        "FCM_E_lda = pd.DataFrame(MftS_E_lda,columns=['f1','f2','f3','f4','f5','f6','f7','f8','f9','f10','f11','f12','f13','f14','f15','f16','class'])\n",
        "FCM_A_lda = pd.DataFrame(MftZ_A_lda,columns=['f1','f2','f3','f4','f5','f6','f7','f8','f9','f10','f11','f12','f13','f14','f15','f16','class'])\n",
        "\n",
        "FCM_A_ica.head(5)\n",
        "\n"
      ],
      "execution_count": 44,
      "outputs": [
        {
          "output_type": "execute_result",
          "data": {
            "text/html": [
              "<div>\n",
              "<style scoped>\n",
              "    .dataframe tbody tr th:only-of-type {\n",
              "        vertical-align: middle;\n",
              "    }\n",
              "\n",
              "    .dataframe tbody tr th {\n",
              "        vertical-align: top;\n",
              "    }\n",
              "\n",
              "    .dataframe thead th {\n",
              "        text-align: right;\n",
              "    }\n",
              "</style>\n",
              "<table border=\"1\" class=\"dataframe\">\n",
              "  <thead>\n",
              "    <tr style=\"text-align: right;\">\n",
              "      <th></th>\n",
              "      <th>f1</th>\n",
              "      <th>f2</th>\n",
              "      <th>f3</th>\n",
              "      <th>f4</th>\n",
              "      <th>f5</th>\n",
              "      <th>f6</th>\n",
              "      <th>f7</th>\n",
              "      <th>f8</th>\n",
              "      <th>class</th>\n",
              "    </tr>\n",
              "  </thead>\n",
              "  <tbody>\n",
              "    <tr>\n",
              "      <th>0</th>\n",
              "      <td>-0.283880</td>\n",
              "      <td>-1.160639</td>\n",
              "      <td>-1.009540</td>\n",
              "      <td>0.867348</td>\n",
              "      <td>-0.147925</td>\n",
              "      <td>-0.031405</td>\n",
              "      <td>-1.125429</td>\n",
              "      <td>-0.556381</td>\n",
              "      <td>0.0</td>\n",
              "    </tr>\n",
              "    <tr>\n",
              "      <th>1</th>\n",
              "      <td>-3.193156</td>\n",
              "      <td>3.703859</td>\n",
              "      <td>-1.010242</td>\n",
              "      <td>1.119306</td>\n",
              "      <td>-0.362617</td>\n",
              "      <td>1.382599</td>\n",
              "      <td>0.382286</td>\n",
              "      <td>-1.095002</td>\n",
              "      <td>0.0</td>\n",
              "    </tr>\n",
              "    <tr>\n",
              "      <th>2</th>\n",
              "      <td>-0.796188</td>\n",
              "      <td>0.366423</td>\n",
              "      <td>-1.051785</td>\n",
              "      <td>0.226354</td>\n",
              "      <td>-0.726620</td>\n",
              "      <td>0.254399</td>\n",
              "      <td>-1.123346</td>\n",
              "      <td>-0.864419</td>\n",
              "      <td>0.0</td>\n",
              "    </tr>\n",
              "    <tr>\n",
              "      <th>3</th>\n",
              "      <td>-3.211432</td>\n",
              "      <td>-0.332778</td>\n",
              "      <td>-0.971737</td>\n",
              "      <td>0.253705</td>\n",
              "      <td>-1.448387</td>\n",
              "      <td>-1.625569</td>\n",
              "      <td>0.983952</td>\n",
              "      <td>-0.459156</td>\n",
              "      <td>0.0</td>\n",
              "    </tr>\n",
              "    <tr>\n",
              "      <th>4</th>\n",
              "      <td>0.153036</td>\n",
              "      <td>-0.408617</td>\n",
              "      <td>-0.359377</td>\n",
              "      <td>-0.009996</td>\n",
              "      <td>-0.592514</td>\n",
              "      <td>-0.462531</td>\n",
              "      <td>-0.500209</td>\n",
              "      <td>-0.163907</td>\n",
              "      <td>0.0</td>\n",
              "    </tr>\n",
              "  </tbody>\n",
              "</table>\n",
              "</div>"
            ],
            "text/plain": [
              "         f1        f2        f3        f4        f5        f6        f7  \\\n",
              "0 -0.283880 -1.160639 -1.009540  0.867348 -0.147925 -0.031405 -1.125429   \n",
              "1 -3.193156  3.703859 -1.010242  1.119306 -0.362617  1.382599  0.382286   \n",
              "2 -0.796188  0.366423 -1.051785  0.226354 -0.726620  0.254399 -1.123346   \n",
              "3 -3.211432 -0.332778 -0.971737  0.253705 -1.448387 -1.625569  0.983952   \n",
              "4  0.153036 -0.408617 -0.359377 -0.009996 -0.592514 -0.462531 -0.500209   \n",
              "\n",
              "         f8  class  \n",
              "0 -0.556381    0.0  \n",
              "1 -1.095002    0.0  \n",
              "2 -0.864419    0.0  \n",
              "3 -0.459156    0.0  \n",
              "4 -0.163907    0.0  "
            ]
          },
          "metadata": {
            "tags": []
          },
          "execution_count": 44
        }
      ]
    },
    {
      "metadata": {
        "id": "zI6uocyBMqBU",
        "colab_type": "code",
        "colab": {}
      },
      "cell_type": "code",
      "source": [
        "#@title concatenate each class { form-width: \"30%\" }\n",
        "TotalDataset_pca = pd.concat([FCM_A_pca,FCM_E_pca],ignore_index=False)\n",
        "\n",
        "TotalDataset_ica = pd.concat([FCM_A_ica,FCM_E_ica],ignore_index=False)\n",
        "\n",
        "TotalDataset_lda = pd.concat([FCM_A_lda,FCM_E_lda],ignore_index=False)\n",
        "\n"
      ],
      "execution_count": 0,
      "outputs": []
    },
    {
      "metadata": {
        "id": "yk3ZvA97LlPJ",
        "colab_type": "code",
        "colab": {}
      },
      "cell_type": "code",
      "source": [
        "#@title PCA__Split arrays or matrices into random train and test subsets { form-width: \"35%\" }\n",
        "\n",
        "X = TotalDataset_pca[['f1','f2','f3','f4','f5','f6','f7','f8']]\n",
        "y = TotalDataset_pca[['class']]\n",
        "X = np.asarray(X)\n",
        "y = np.asarray(y)\n",
        "X_train, X_test, y_train, y_test = train_test_split(X, y, test_size=0.5, random_state=42)"
      ],
      "execution_count": 0,
      "outputs": []
    },
    {
      "metadata": {
        "id": "e7xeczXCMnsD",
        "colab_type": "code",
        "outputId": "ff799d6f-9e34-4a28-d323-8116cbfdeb93",
        "colab": {
          "base_uri": "https://localhost:8080/",
          "height": 204
        }
      },
      "cell_type": "code",
      "source": [
        "#@title SVM+PCA { form-width: \"30%\" }\n",
        "from sklearn.svm import SVC  \n",
        "svclassifier = SVC(C=1000,gamma=1)  \n",
        "svclassifier.fit(X_train, y_train)  \n",
        "y_pred = svclassifier.predict(X_test)\n",
        "from sklearn.metrics import classification_report, confusion_matrix  \n",
        "print(confusion_matrix(y_test,y_pred))  \n",
        "print(classification_report(y_test,y_pred))"
      ],
      "execution_count": 47,
      "outputs": [
        {
          "output_type": "stream",
          "text": [
            "[[50  1]\n",
            " [24 25]]\n",
            "              precision    recall  f1-score   support\n",
            "\n",
            "         0.0       0.68      0.98      0.80        51\n",
            "         1.0       0.96      0.51      0.67        49\n",
            "\n",
            "   micro avg       0.75      0.75      0.75       100\n",
            "   macro avg       0.82      0.75      0.73       100\n",
            "weighted avg       0.82      0.75      0.73       100\n",
            "\n"
          ],
          "name": "stdout"
        }
      ]
    },
    {
      "metadata": {
        "id": "nUT12LbtM3il",
        "colab_type": "code",
        "colab": {}
      },
      "cell_type": "code",
      "source": [
        "X_train, X_test, y_train, y_test = train_test_split(X, y, test_size=0.5, random_state=42)"
      ],
      "execution_count": 0,
      "outputs": []
    },
    {
      "metadata": {
        "id": "tHc1xg0gClwt",
        "colab_type": "code",
        "outputId": "616cd106-5ff7-4b47-83a0-cb66ce01fb25",
        "colab": {
          "base_uri": "https://localhost:8080/",
          "height": 34
        }
      },
      "cell_type": "code",
      "source": [
        "import sklearn\n",
        "sklearn.__version__"
      ],
      "execution_count": 31,
      "outputs": [
        {
          "output_type": "execute_result",
          "data": {
            "text/plain": [
              "'0.20.2'"
            ]
          },
          "metadata": {
            "tags": []
          },
          "execution_count": 31
        }
      ]
    },
    {
      "metadata": {
        "id": "jt9OsDoGLeUd",
        "colab_type": "code",
        "outputId": "2f8b5260-e3d8-41fa-9c0f-5ee9bd3d88ce",
        "colab": {
          "base_uri": "https://localhost:8080/",
          "height": 437
        }
      },
      "cell_type": "code",
      "source": [
        "# Compare Algorithms\n",
        "import pandas\n",
        "import matplotlib.pyplot as plt\n",
        "from sklearn import model_selection\n",
        "from sklearn.linear_model import LogisticRegression\n",
        "from sklearn.tree import DecisionTreeClassifier\n",
        "from sklearn.neighbors import KNeighborsClassifier\n",
        "from sklearn.discriminant_analysis import LinearDiscriminantAnalysis\n",
        "from sklearn.naive_bayes import GaussianNB\n",
        "from sklearn.svm import SVC\n",
        "\n",
        "\n",
        "# prepare configuration for cross validation test harness\n",
        "seed = 7\n",
        "# prepare models\n",
        "models = []\n",
        "models.append(('KNN', KNeighborsClassifier()))\n",
        "models.append(('CART', DecisionTreeClassifier()))\n",
        "models.append(('SVM', SVC(C=100,gamma=.3)))\n",
        "# evaluate each model in turn\n",
        "results = []\n",
        "names = []\n",
        "scoring = 'accuracy'\n",
        "for name, model in models:\n",
        "\tkfold = model_selection.KFold(n_splits=10, random_state=seed)\n",
        "\tcv_results = model_selection.cross_val_score(model, X, y, cv=kfold, scoring=scoring)\n",
        "\tresults.append(cv_results)\n",
        "\tnames.append(name)\n",
        "\tmsg = \"%s: %f (%f)\" % (name, cv_results.mean(), cv_results.std())\n",
        "\tprint(msg)\n",
        "# boxplot algorithm comparison\n",
        "\n",
        "\n",
        "\n",
        "\n",
        "fig = plt.figure()\n",
        "fig.suptitle('Algorithm Comparison')\n",
        "ax = fig.add_subplot(111)\n",
        "plt.boxplot(results)\n",
        "\n",
        "ax.set_xticklabels(names)\n",
        "plt.show()"
      ],
      "execution_count": 48,
      "outputs": [
        {
          "output_type": "stream",
          "text": [
            "KNN: 0.700000 (0.137840)\n",
            "CART: 0.630000 (0.107703)\n",
            "SVM: 0.755000 (0.121347)\n"
          ],
          "name": "stdout"
        },
        {
          "output_type": "display_data",
          "data": {
            "image/png": "[encoded data removed]",
            "text/plain": [
              "<Figure size 576x396 with 1 Axes>"
            ]
          },
          "metadata": {
            "tags": []
          }
        }
      ]
    },
    {
      "metadata": {
        "id": "FBBgQAeTV2pF",
        "colab_type": "code",
        "outputId": "39eb9693-219c-4c9b-eb96-e2bd6466df4a",
        "colab": {
          "base_uri": "https://localhost:8080/",
          "height": 34
        }
      },
      "cell_type": "code",
      "source": [
        "X_train.shape"
      ],
      "execution_count": 0,
      "outputs": [
        {
          "output_type": "execute_result",
          "data": {
            "text/plain": [
              "(100, 11)"
            ]
          },
          "metadata": {
            "tags": []
          },
          "execution_count": 45
        }
      ]
    },
    {
      "metadata": {
        "id": "842fGxkA8nkG",
        "colab_type": "code",
        "outputId": "a93a810d-5a64-4626-d036-bf6218249391",
        "colab": {
          "base_uri": "https://localhost:8080/",
          "height": 887
        }
      },
      "cell_type": "code",
      "source": [
        "import itertools\n",
        "from sklearn import svm\n",
        "from sklearn.metrics import confusion_matrix\n",
        "class_names=np.array([[\"A\"], [\"E\"]])\n",
        "\n",
        "classifier = SVC(C=100,gamma=.2)\n",
        "y_pred = classifier.fit(X_train, y_train).predict(X_test)\n",
        "\n",
        "\n",
        "def plot_confusion_matrix(cm, classes,\n",
        "                          normalize=False,\n",
        "                          title='Confusion matrix',\n",
        "                          cmap=plt.cm.Blues):\n",
        "    \"\"\"\n",
        "    This function prints and plots the confusion matrix.\n",
        "    Normalization can be applied by setting `normalize=True`.\n",
        "    \"\"\"\n",
        "    if normalize:\n",
        "        cm = cm.astype('float') / cm.sum(axis=1)[:, np.newaxis]\n",
        "        print(\"Normalized confusion matrix\")\n",
        "    else:\n",
        "        print('Confusion matrix, without normalization')\n",
        "\n",
        "    print(cm)\n",
        "\n",
        "    plt.imshow(cm, interpolation='nearest', cmap=cmap)\n",
        "    plt.title(title)\n",
        "    plt.colorbar()\n",
        "    tick_marks = np.arange(len(classes))\n",
        "    plt.xticks(tick_marks, classes, rotation=45)\n",
        "    plt.yticks(tick_marks, classes)\n",
        "\n",
        "    fmt = '.2f' if normalize else 'd'\n",
        "    thresh = cm.max() / 2.\n",
        "    for i, j in itertools.product(range(cm.shape[0]), range(cm.shape[1])):\n",
        "        plt.text(j, i, format(cm[i, j], fmt),\n",
        "                 horizontalalignment=\"center\",\n",
        "                 color=\"white\" if cm[i, j] > thresh else \"black\")\n",
        "\n",
        "    plt.ylabel('True label')\n",
        "    plt.xlabel('Predicted label')\n",
        "    plt.tight_layout()\n",
        "\n",
        "\n",
        "# Compute confusion matrix\n",
        "cnf_matrix = confusion_matrix(y_test, y_pred)\n",
        "np.set_printoptions(precision=2)\n",
        "\n",
        "# Plot non-normalized confusion matrix\n",
        "plt.figure()\n",
        "plot_confusion_matrix(cnf_matrix, classes=class_names,\n",
        "                      title='Confusion matrix SVM, without normalization')\n",
        "\n",
        "# Plot normalized confusion matrix\n",
        "plt.figure()\n",
        "plot_confusion_matrix(cnf_matrix, classes=class_names, normalize=True,\n",
        "                      title='Normalized confusion matrix SVM')\n",
        "\n",
        "plt.show()"
      ],
      "execution_count": 49,
      "outputs": [
        {
          "output_type": "stream",
          "text": [
            "Confusion matrix, without normalization\n",
            "[[45  6]\n",
            " [18 31]]\n",
            "Normalized confusion matrix\n",
            "[[0.88 0.12]\n",
            " [0.37 0.63]]\n"
          ],
          "name": "stdout"
        },
        {
          "output_type": "display_data",
          "data": {
            "image/png": "[encoded data removed]",
            "text/plain": [
              "<Figure size 576x396 with 2 Axes>"
            ]
          },
          "metadata": {
            "tags": []
          }
        },
        {
          "output_type": "display_data",
          "data": {
            "image/png": "[encoded data removed]",
            "text/plain": [
              "<Figure size 576x396 with 2 Axes>"
            ]
          },
          "metadata": {
            "tags": []
          }
        }
      ]
    },
    {
      "metadata": {
        "id": "dsTJKcIr946F",
        "colab_type": "code",
        "outputId": "7c8fa980-6fd4-47ab-c2fe-d00359cad739",
        "colab": {
          "base_uri": "https://localhost:8080/",
          "height": 420
        }
      },
      "cell_type": "code",
      "source": [
        "from sklearn import metrics\n",
        "auc_roc=metrics.roc_auc_score(y_test,y_pred)\n",
        "auc_roc\n",
        "from sklearn.metrics import roc_curve, auc\n",
        "false_positive_rate, true_positive_rate, thresholds = roc_curve(y_test, y_pred)\n",
        "roc_auc = auc(false_positive_rate, true_positive_rate)\n",
        "roc_auc\n",
        "import matplotlib.pyplot as plt\n",
        "plt.figure(figsize=(6,6))\n",
        "plt.title('Receiver Operating Characteristic')\n",
        "plt.plot(false_positive_rate,true_positive_rate, color='red',label = 'AUC = %0.2f' % roc_auc)\n",
        "plt.legend(loc = 'lower right')\n",
        "plt.plot([0, 1], [0, 1],linestyle='--')\n",
        "plt.axis('tight')\n",
        "plt.ylabel('True Positive Rate')\n",
        "plt.xlabel('False Positive Rate')"
      ],
      "execution_count": 50,
      "outputs": [
        {
          "output_type": "execute_result",
          "data": {
            "text/plain": [
              "Text(0.5, 0, 'False Positive Rate')"
            ]
          },
          "metadata": {
            "tags": []
          },
          "execution_count": 50
        },
        {
          "output_type": "display_data",
          "data": {
            "image/png": "[encoded data removed]",
            "text/plain": [
              "<Figure size 432x432 with 1 Axes>"
            ]
          },
          "metadata": {
            "tags": []
          }
        }
      ]
    },
    {
      "metadata": {
        "id": "NFlpLRw_JNnj",
        "colab_type": "code",
        "colab": {}
      },
      "cell_type": "code",
      "source": [
        "#@title ICA__Split arrays or matrices into random train and test subsets\n",
        "\n",
        "X = TotalDataset_ica[['f1','f2','f3','f4','f5','f6','f7','f8']]\n",
        "y = TotalDataset_ica[['class']]\n",
        "X = np.asarray(X)\n",
        "y = np.asarray(y)"
      ],
      "execution_count": 0,
      "outputs": []
    },
    {
      "metadata": {
        "id": "cW8Ns639XrKg",
        "colab_type": "code",
        "colab": {}
      },
      "cell_type": "code",
      "source": [
        "X_train, X_test, y_train, y_test = train_test_split(X, y, test_size=0.5, random_state=42)"
      ],
      "execution_count": 0,
      "outputs": []
    },
    {
      "metadata": {
        "id": "wQXyqS66X12Z",
        "colab_type": "code",
        "outputId": "fbe104ff-6bce-46b8-b1e8-88d13e0240c7",
        "colab": {
          "base_uri": "https://localhost:8080/",
          "height": 454
        }
      },
      "cell_type": "code",
      "source": [
        "# Compare Algorithms\n",
        "import pandas\n",
        "import matplotlib.pyplot as plt\n",
        "from sklearn import model_selection\n",
        "from sklearn.linear_model import LogisticRegression\n",
        "from sklearn.tree import DecisionTreeClassifier\n",
        "from sklearn.neighbors import KNeighborsClassifier\n",
        "from sklearn.discriminant_analysis import LinearDiscriminantAnalysis\n",
        "from sklearn.naive_bayes import GaussianNB\n",
        "from sklearn.svm import SVC\n",
        "\n",
        "\n",
        "# prepare configuration for cross validation test harness\n",
        "seed = 7\n",
        "# prepare models\n",
        "models = []\n",
        "models.append(('KNN', KNeighborsClassifier()))\n",
        "models.append(('CART', DecisionTreeClassifier()))\n",
        "models.append(('NB', GaussianNB()))\n",
        "models.append(('SVM', SVC(C=100,gamma=.2)))\n",
        "# evaluate each model in turn\n",
        "results = []\n",
        "names = []\n",
        "scoring = 'accuracy'\n",
        "for name, model in models:\n",
        "\tkfold = model_selection.KFold(n_splits=10, random_state=seed)\n",
        "\tcv_results = model_selection.cross_val_score(model, X, y, cv=kfold, scoring=scoring)\n",
        "\tresults.append(cv_results)\n",
        "\tnames.append(name)\n",
        "\tmsg = \"%s: %f (%f)\" % (name, cv_results.mean(), cv_results.std())\n",
        "\tprint(msg)\n",
        "# boxplot algorithm comparison\n",
        "\n",
        "\n",
        "\n",
        "\n",
        "fig = plt.figure()\n",
        "fig.suptitle('Algorithm Comparison')\n",
        "ax = fig.add_subplot(111)\n",
        "plt.boxplot(results)\n",
        "\n",
        "ax.set_xticklabels(names)\n",
        "plt.show()"
      ],
      "execution_count": 53,
      "outputs": [
        {
          "output_type": "stream",
          "text": [
            "KNN: 0.910000 (0.124097)\n",
            "CART: 0.920000 (0.064031)\n",
            "NB: 0.985000 (0.032016)\n",
            "SVM: 0.995000 (0.015000)\n"
          ],
          "name": "stdout"
        },
        {
          "output_type": "display_data",
          "data": {
            "image/png": "[encoded data removed]",
            "text/plain": [
              "<Figure size 576x396 with 1 Axes>"
            ]
          },
          "metadata": {
            "tags": []
          }
        }
      ]
    },
    {
      "metadata": {
        "id": "OoKvSWoSaR8H",
        "colab_type": "code",
        "outputId": "52d59cb0-f5ec-4560-a71d-94ab919f0448",
        "colab": {
          "base_uri": "https://localhost:8080/",
          "height": 887
        }
      },
      "cell_type": "code",
      "source": [
        "import itertools\n",
        "from sklearn import svm\n",
        "from sklearn.metrics import confusion_matrix\n",
        "class_names=np.array([[\"A\"], [\"E\"]])\n",
        "\n",
        "classifier = SVC(C=100,gamma=.2)\n",
        "y_pred = classifier.fit(X_train, y_train).predict(X_test)\n",
        "\n",
        "\n",
        "def plot_confusion_matrix(cm, classes,\n",
        "                          normalize=False,\n",
        "                          title='Confusion matrix',\n",
        "                          cmap=plt.cm.Blues):\n",
        "    \"\"\"\n",
        "    This function prints and plots the confusion matrix.\n",
        "    Normalization can be applied by setting `normalize=True`.\n",
        "    \"\"\"\n",
        "    if normalize:\n",
        "        cm = cm.astype('float') / cm.sum(axis=1)[:, np.newaxis]\n",
        "        print(\"Normalized confusion matrix\")\n",
        "    else:\n",
        "        print('Confusion matrix, without normalization')\n",
        "\n",
        "    print(cm)\n",
        "\n",
        "    plt.imshow(cm, interpolation='nearest', cmap=cmap)\n",
        "    plt.title(title)\n",
        "    plt.colorbar()\n",
        "    tick_marks = np.arange(len(classes))\n",
        "    plt.xticks(tick_marks, classes, rotation=45)\n",
        "    plt.yticks(tick_marks, classes)\n",
        "\n",
        "    fmt = '.2f' if normalize else 'd'\n",
        "    thresh = cm.max() / 2.\n",
        "    for i, j in itertools.product(range(cm.shape[0]), range(cm.shape[1])):\n",
        "        plt.text(j, i, format(cm[i, j], fmt),\n",
        "                 horizontalalignment=\"center\",\n",
        "                 color=\"white\" if cm[i, j] > thresh else \"black\")\n",
        "\n",
        "    plt.ylabel('True label')\n",
        "    plt.xlabel('Predicted label')\n",
        "    plt.tight_layout()\n",
        "\n",
        "\n",
        "# Compute confusion matrix\n",
        "cnf_matrix = confusion_matrix(y_test, y_pred)\n",
        "np.set_printoptions(precision=2)\n",
        "\n",
        "# Plot non-normalized confusion matrix\n",
        "plt.figure()\n",
        "plot_confusion_matrix(cnf_matrix, classes=class_names,\n",
        "                      title='Confusion matrix SVM, without normalization')\n",
        "\n",
        "# Plot normalized confusion matrix\n",
        "plt.figure()\n",
        "plot_confusion_matrix(cnf_matrix, classes=class_names, normalize=True,\n",
        "                      title='Normalized confusion matrix SVM')\n",
        "\n",
        "plt.show()"
      ],
      "execution_count": 54,
      "outputs": [
        {
          "output_type": "stream",
          "text": [
            "Confusion matrix, without normalization\n",
            "[[50  1]\n",
            " [ 0 49]]\n",
            "Normalized confusion matrix\n",
            "[[0.98 0.02]\n",
            " [0.   1.  ]]\n"
          ],
          "name": "stdout"
        },
        {
          "output_type": "display_data",
          "data": {
            "image/png": "[encoded data removed]",
            "text/plain": [
              "<Figure size 576x396 with 2 Axes>"
            ]
          },
          "metadata": {
            "tags": []
          }
        },
        {
          "output_type": "display_data",
          "data": {
            "image/png": "[encoded data removed]",
            "text/plain": [
              "<Figure size 576x396 with 2 Axes>"
            ]
          },
          "metadata": {
            "tags": []
          }
        }
      ]
    },
    {
      "metadata": {
        "id": "tbvH8fseaH9K",
        "colab_type": "code",
        "outputId": "86af8bad-edd5-4e5c-fe39-10bc23331040",
        "colab": {
          "base_uri": "https://localhost:8080/",
          "height": 366
        }
      },
      "cell_type": "code",
      "source": [
        "#@title ICA AUC { form-width: \"20%\" }\n",
        "from sklearn import metrics\n",
        "auc_roc=metrics.roc_auc_score(y_test,y_pred)\n",
        "auc_roc\n",
        "from sklearn.metrics import roc_curve, auc\n",
        "false_positive_rate, true_positive_rate, thresholds = roc_curve(y_test, y_pred)\n",
        "roc_auc = auc(false_positive_rate, true_positive_rate)\n",
        "roc_auc\n",
        "import matplotlib.pyplot as plt\n",
        "plt.figure(figsize=(5,5))\n",
        "plt.title('Receiver Operating Characteristic')\n",
        "plt.plot(false_positive_rate,true_positive_rate, color='red',label = 'AUC = %0.2f' % roc_auc)\n",
        "plt.legend(loc = 'lower right')\n",
        "plt.plot([0, 1], [0, 1],linestyle='--')\n",
        "plt.axis('tight')\n",
        "plt.ylabel('True Positive Rate')\n",
        "plt.xlabel('False Positive Rate')"
      ],
      "execution_count": 55,
      "outputs": [
        {
          "output_type": "execute_result",
          "data": {
            "text/plain": [
              "Text(0.5, 0, 'False Positive Rate')"
            ]
          },
          "metadata": {
            "tags": []
          },
          "execution_count": 55
        },
        {
          "output_type": "display_data",
          "data": {
            "image/png": "[encoded data removed]",
            "text/plain": [
              "<Figure size 360x360 with 1 Axes>"
            ]
          },
          "metadata": {
            "tags": []
          }
        }
      ]
    },
    {
      "metadata": {
        "id": "5eed0PmVbOom",
        "colab_type": "code",
        "colab": {}
      },
      "cell_type": "code",
      "source": [
        "#@title LDA__Split arrays or matrices into random train and test subsets\n",
        "\n",
        "X = TotalDataset_lda[['f1','f2','f3','f4','f5','f6','f7','f8','f9','f10','f11','f12','f13','f14','f15','f16']]\n",
        "y = TotalDataset_lda[['class']]\n",
        "X = np.asarray(X)\n",
        "X_norm = (X - X.min())/(X.max() - X.min())\n",
        "y = np.asarray(y)\n",
        "X_train, X_test, y_train, y_test = train_test_split(X, y, test_size=0.5, random_state=42)"
      ],
      "execution_count": 0,
      "outputs": []
    },
    {
      "metadata": {
        "id": "3TFMzNK2beOp",
        "colab_type": "code",
        "outputId": "d4b74ac5-d6cd-4f34-99c5-69ea51b431e6",
        "colab": {
          "base_uri": "https://localhost:8080/",
          "height": 34
        }
      },
      "cell_type": "code",
      "source": [
        "X_test.shape"
      ],
      "execution_count": 0,
      "outputs": [
        {
          "output_type": "execute_result",
          "data": {
            "text/plain": [
              "(100, 16)"
            ]
          },
          "metadata": {
            "tags": []
          },
          "execution_count": 280
        }
      ]
    },
    {
      "metadata": {
        "id": "Hiv1FZ-FcLDV",
        "colab_type": "code",
        "cellView": "both",
        "colab": {}
      },
      "cell_type": "code",
      "source": [
        "#@title n_components=??? { form-width: \"20%\" }\n",
        "from sklearn.discriminant_analysis import LinearDiscriminantAnalysis\n",
        "lda = LinearDiscriminantAnalysis(n_components=2)\n",
        "X_train = lda.fit_transform(X_train, y_train)\n",
        "X_test = lda.transform(X_test) \n",
        "\n",
        "# Fitting Logistic Regression to the Training set\n",
        "from sklearn.linear_model import LogisticRegression\n",
        "classifier = LogisticRegression(random_state = 0)\n",
        "classifier.fit(X_train, y_train)\n",
        " \n",
        "# Predicting the Test set results\n",
        "y_pred = classifier.predict(X_test)\n",
        "\n"
      ],
      "execution_count": 0,
      "outputs": []
    },
    {
      "metadata": {
        "id": "bzq62-ci3U57",
        "colab_type": "code",
        "outputId": "7ead5a50-ab1d-4a51-dc1d-d845947a5a5b",
        "colab": {
          "base_uri": "https://localhost:8080/",
          "height": 34
        }
      },
      "cell_type": "code",
      "source": [
        "X_test.shape"
      ],
      "execution_count": 63,
      "outputs": [
        {
          "output_type": "execute_result",
          "data": {
            "text/plain": [
              "(100, 1)"
            ]
          },
          "metadata": {
            "tags": []
          },
          "execution_count": 63
        }
      ]
    },
    {
      "metadata": {
        "id": "QmiKrDpa1vEY",
        "colab_type": "code",
        "outputId": "5340858f-999d-4866-97bd-bad4a8829ffb",
        "colab": {
          "base_uri": "https://localhost:8080/",
          "height": 887
        }
      },
      "cell_type": "code",
      "source": [
        "#@title RandomForestClassifier+LDA { form-width: \"30%\" }\n",
        "from sklearn.ensemble import RandomForestClassifier\n",
        "\n",
        "classifier = RandomForestClassifier(max_depth=2, random_state=0)\n",
        "y_pred = classifier.fit(X_train, y_train).predict(X_test)\n",
        "cnf_matrix = confusion_matrix(y_test, y_pred)\n",
        "np.set_printoptions(precision=2)\n",
        "\n",
        "# Plot non-normalized confusion matrix\n",
        "plt.figure()\n",
        "plot_confusion_matrix(cnf_matrix, classes=class_names,\n",
        "                      title='Confusion matrix SVM, without normalization')\n",
        "\n",
        "# Plot normalized confusion matrix\n",
        "plt.figure()\n",
        "plot_confusion_matrix(cnf_matrix, classes=class_names, normalize=True,\n",
        "                      title='Normalized confusion matrix SVM')\n",
        "\n",
        "plt.show()"
      ],
      "execution_count": 86,
      "outputs": [
        {
          "output_type": "stream",
          "text": [
            "Confusion matrix, without normalization\n",
            "[[ 9 42]\n",
            " [19 30]]\n",
            "Normalized confusion matrix\n",
            "[[0.18 0.82]\n",
            " [0.39 0.61]]\n"
          ],
          "name": "stdout"
        },
        {
          "output_type": "display_data",
          "data": {
            "image/png": "[encoded data removed]",
            "text/plain": [
              "<Figure size 576x396 with 2 Axes>"
            ]
          },
          "metadata": {
            "tags": []
          }
        },
        {
          "output_type": "display_data",
          "data": {
            "image/png": "[encoded data removed]",
            "text/plain": [
              "<Figure size 576x396 with 2 Axes>"
            ]
          },
          "metadata": {
            "tags": []
          }
        }
      ]
    },
    {
      "metadata": {
        "id": "kqcsuVXtcTeh",
        "colab_type": "code",
        "outputId": "55a68ff4-2915-428f-dba5-ea6b82dcf099",
        "colab": {
          "base_uri": "https://localhost:8080/",
          "height": 454
        }
      },
      "cell_type": "code",
      "source": [
        "# Compare Algorithms\n",
        "import pandas\n",
        "import matplotlib.pyplot as plt\n",
        "from sklearn import model_selection\n",
        "from sklearn.linear_model import LogisticRegression\n",
        "from sklearn.tree import DecisionTreeClassifier\n",
        "from sklearn.neighbors import KNeighborsClassifier\n",
        "from sklearn.discriminant_analysis import LinearDiscriminantAnalysis\n",
        "from sklearn.naive_bayes import GaussianNB\n",
        "from sklearn.svm import SVC\n",
        "\n",
        "\n",
        "# prepare configuration for cross validation test harness\n",
        "seed = 7\n",
        "# prepare models\n",
        "models = []\n",
        "#models.append(('LDA', LinearDiscriminantAnalysis()))\n",
        "models.append(('KNN', KNeighborsClassifier()))\n",
        "models.append(('CART', DecisionTreeClassifier()))\n",
        "models.append(('NB', GaussianNB()))\n",
        "models.append(('SVM', SVC(C=10,gamma=.01)))\n",
        "# evaluate each model in turn\n",
        "results = []\n",
        "names = []\n",
        "scoring = 'accuracy'\n",
        "for name, model in models:\n",
        "\tkfold = model_selection.KFold(n_splits=10, random_state=seed)\n",
        "\tcv_results = model_selection.cross_val_score(model, X, y, cv=kfold, scoring=scoring)\n",
        "\tresults.append(cv_results)\n",
        "\tnames.append(name)\n",
        "\tmsg = \"%s: %f (%f)\" % (name, cv_results.mean(), cv_results.std())\n",
        "\tprint(msg)\n",
        "# boxplot algorithm comparison\n",
        "\n",
        "\n",
        "\n",
        "\n",
        "fig = plt.figure()\n",
        "fig.suptitle('Algorithm Comparison')\n",
        "ax = fig.add_subplot(111)\n",
        "plt.boxplot(results)\n",
        "\n",
        "ax.set_xticklabels(names)\n",
        "plt.show()"
      ],
      "execution_count": 87,
      "outputs": [
        {
          "output_type": "stream",
          "text": [
            "KNN: 0.595000 (0.172409)\n",
            "CART: 0.905000 (0.052202)\n",
            "NB: 0.190000 (0.215407)\n",
            "SVM: 0.355000 (0.121347)\n"
          ],
          "name": "stdout"
        },
        {
          "output_type": "display_data",
          "data": {
            "image/png": "[encoded data removed]",
            "text/plain": [
              "<Figure size 576x396 with 1 Axes>"
            ]
          },
          "metadata": {
            "tags": []
          }
        }
      ]
    },
    {
      "metadata": {
        "id": "yOpwKon5gVnK",
        "colab_type": "code",
        "outputId": "9f2810cd-42ff-40e7-e765-2e787890ce83",
        "colab": {
          "base_uri": "https://localhost:8080/",
          "height": 34
        }
      },
      "cell_type": "code",
      "source": [
        "X.shape"
      ],
      "execution_count": 0,
      "outputs": [
        {
          "output_type": "execute_result",
          "data": {
            "text/plain": [
              "(200, 17)"
            ]
          },
          "metadata": {
            "tags": []
          },
          "execution_count": 151
        }
      ]
    },
    {
      "metadata": {
        "id": "Jle8WGBqbFQs",
        "colab_type": "code",
        "outputId": "3786482f-611b-4c01-9d3f-f02eb6f62945",
        "colab": {
          "base_uri": "https://localhost:8080/",
          "height": 420
        }
      },
      "cell_type": "code",
      "source": [
        "#@title LDA AUC { form-width: \"20%\" }\n",
        "from sklearn import metrics\n",
        "auc_roc=metrics.roc_auc_score(y_test,y_pred)\n",
        "auc_roc\n",
        "from sklearn.metrics import roc_curve, auc\n",
        "false_positive_rate, true_positive_rate, thresholds = roc_curve(y_test, y_pred)\n",
        "roc_auc = auc(false_positive_rate, true_positive_rate)\n",
        "roc_auc\n",
        "import matplotlib.pyplot as plt\n",
        "plt.figure(figsize=(6,6))\n",
        "plt.title('Receiver Operating Characteristic')\n",
        "plt.plot(false_positive_rate,true_positive_rate, color='red',label = 'AUC = %0.2f' % roc_auc)\n",
        "plt.legend(loc = 'lower right')\n",
        "plt.plot([0, 1], [0, 1],linestyle='--')\n",
        "plt.axis('tight')\n",
        "plt.ylabel('True Positive Rate')\n",
        "plt.xlabel('False Positive Rate')"
      ],
      "execution_count": 89,
      "outputs": [
        {
          "output_type": "execute_result",
          "data": {
            "text/plain": [
              "Text(0.5, 0, 'False Positive Rate')"
            ]
          },
          "metadata": {
            "tags": []
          },
          "execution_count": 89
        },
        {
          "output_type": "display_data",
          "data": {
            "image/png": "[encoded data removed]",
            "text/plain": [
              "<Figure size 432x432 with 1 Axes>"
            ]
          },
          "metadata": {
            "tags": []
          }
        }
      ]
    },
    {
      "metadata": {
        "id": "c5z4FXOn_Ut-",
        "colab_type": "code",
        "colab": {
          "base_uri": "https://localhost:8080/",
          "height": 887
        },
        "outputId": "59a3e36f-d0f0-40e4-b9a5-891d22f8a081"
      },
      "cell_type": "code",
      "source": [
        "import itertools\n",
        "from sklearn import svm\n",
        "from sklearn.metrics import confusion_matrix\n",
        "class_names=np.array([[\"A\"], [\"E\"]])\n",
        "\n",
        "classifier = SVC(C=100,gamma=.2)\n",
        "y_pred = classifier.fit(X_train, y_train).predict(X_test)\n",
        "\n",
        "\n",
        "def plot_confusion_matrix(cm, classes,\n",
        "                          normalize=False,\n",
        "                          title='Confusion matrix',\n",
        "                          cmap=plt.cm.Blues):\n",
        "    \"\"\"\n",
        "    This function prints and plots the confusion matrix.\n",
        "    Normalization can be applied by setting `normalize=True`.\n",
        "    \"\"\"\n",
        "    if normalize:\n",
        "        cm = cm.astype('float') / cm.sum(axis=1)[:, np.newaxis]\n",
        "        print(\"Normalized confusion matrix\")\n",
        "    else:\n",
        "        print('Confusion matrix, without normalization')\n",
        "\n",
        "    print(cm)\n",
        "\n",
        "    plt.imshow(cm, interpolation='nearest', cmap=cmap)\n",
        "    plt.title(title)\n",
        "    plt.colorbar()\n",
        "    tick_marks = np.arange(len(classes))\n",
        "    plt.xticks(tick_marks, classes, rotation=45)\n",
        "    plt.yticks(tick_marks, classes)\n",
        "\n",
        "    fmt = '.2f' if normalize else 'd'\n",
        "    thresh = cm.max() / 2.\n",
        "    for i, j in itertools.product(range(cm.shape[0]), range(cm.shape[1])):\n",
        "        plt.text(j, i, format(cm[i, j], fmt),\n",
        "                 horizontalalignment=\"center\",\n",
        "                 color=\"white\" if cm[i, j] > thresh else \"black\")\n",
        "\n",
        "    plt.ylabel('True label')\n",
        "    plt.xlabel('Predicted label')\n",
        "    plt.tight_layout()\n",
        "\n",
        "\n",
        "# Compute confusion matrix\n",
        "cnf_matrix = confusion_matrix(y_test, y_pred)\n",
        "np.set_printoptions(precision=2)\n",
        "\n",
        "# Plot non-normalized confusion matrix\n",
        "plt.figure()\n",
        "plot_confusion_matrix(cnf_matrix, classes=class_names,\n",
        "                      title='Confusion matrix SVM, without normalization')\n",
        "\n",
        "# Plot normalized confusion matrix\n",
        "plt.figure()\n",
        "plot_confusion_matrix(cnf_matrix, classes=class_names, normalize=True,\n",
        "                      title='Normalized confusion matrix SVM')\n",
        "\n",
        "plt.show()"
      ],
      "execution_count": 90,
      "outputs": [
        {
          "output_type": "stream",
          "text": [
            "Confusion matrix, without normalization\n",
            "[[ 9 42]\n",
            " [18 31]]\n",
            "Normalized confusion matrix\n",
            "[[0.18 0.82]\n",
            " [0.37 0.63]]\n"
          ],
          "name": "stdout"
        },
        {
          "output_type": "display_data",
          "data": {
            "image/png": "[encoded data removed]",
            "text/plain": [
              "<Figure size 576x396 with 2 Axes>"
            ]
          },
          "metadata": {
            "tags": []
          }
        },
        {
          "output_type": "display_data",
          "data": {
            "image/png": "[encoded data removed]",
            "text/plain": [
              "<Figure size 576x396 with 2 Axes>"
            ]
          },
          "metadata": {
            "tags": []
          }
        }
      ]
    }
  ]
}